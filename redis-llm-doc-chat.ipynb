{
 "cells": [
  {
   "cell_type": "markdown",
   "id": "7f6e76f2",
   "metadata": {
    "colab_type": "text",
    "id": "view-in-github"
   },
   "source": [
    "<a href=\"https://colab.research.google.com/github/antonum/LLM-Document-Chat/blob/main/redis-llm-doc-chat.ipynb\" target=\"_parent\"><img src=\"https://colab.research.google.com/assets/colab-badge.svg\" alt=\"Open In Colab\"/></a>"
   ]
  },
  {
   "cell_type": "markdown",
   "id": "0b692c73",
   "metadata": {
    "id": "0b692c73"
   },
   "source": [
    "# Using Redis and OpenAI to chat with PDF documents\n",
    "\n",
    "This notebook demonstrates how to use RedisAI and OpenAI to chat with PDF documents. The PDF included is\n",
    "a informational brochure about the Chevy Colorado pickup truck.\n",
    "\n",
    "In this notebook, we will use LLamaIndex to chunk, vectorize, and store the PDF document in Redis as vectors\n",
    "alongside associated text. The query interface provided by LLamaIndex will be used to search for relevant\n",
    "information given queries from the user."
   ]
  },
  {
   "cell_type": "markdown",
   "id": "GDGgqJ5Y6N60",
   "metadata": {
    "id": "GDGgqJ5Y6N60"
   },
   "source": [
    "##Please provide OpenAI API key"
   ]
  },
  {
   "cell_type": "code",
   "execution_count": 1,
   "id": "oyFDgO2bzHk1",
   "metadata": {
    "colab": {
     "base_uri": "https://localhost:8080/"
    },
    "id": "oyFDgO2bzHk1",
    "outputId": "290a16c3-3eb6-4379-f360-f30ee48c66eb"
   },
   "outputs": [],
   "source": [
    "import os\n",
    "import getpass\n",
    "OPENAI_API_KEY = os.getenv(\"OPENAI_API_KEY\", \"\")\n",
    "if OPENAI_API_KEY == \"\" :\n",
    "  key=getpass.getpass(prompt='OpenAI Key: ', stream=None)\n",
    "  os.environ['OPENAI_API_KEY']= key"
   ]
  },
  {
   "cell_type": "markdown",
   "id": "ae743Eg86Vy-",
   "metadata": {
    "id": "ae743Eg86Vy-"
   },
   "source": [
    "Install dependencies, including local Redis Stack Server and download data."
   ]
  },
  {
   "cell_type": "code",
   "execution_count": 2,
   "id": "949e6cf1",
   "metadata": {
    "colab": {
     "base_uri": "https://localhost:8080/"
    },
    "id": "949e6cf1",
    "outputId": "a303d932-8d47-400f-8f75-2171c3cbe4eb",
    "tags": []
   },
   "outputs": [],
   "source": [
    "# Install the requirements\n",
    "!pip install -q redis PyPDF2 "
   ]
  },
  {
   "cell_type": "code",
   "execution_count": 3,
   "id": "04f5d099-b5ab-4011-9392-91ad5c93b14d",
   "metadata": {
    "colab": {
     "base_uri": "https://localhost:8080/"
    },
    "id": "04f5d099-b5ab-4011-9392-91ad5c93b14d",
    "outputId": "b43ccbbb-51b5-4d65-b3ae-dce9dbd0b088",
    "tags": []
   },
   "outputs": [],
   "source": [
    "!pip install -q git+https://github.com/redisventures/llama_index@redis_vector"
   ]
  },
  {
   "cell_type": "code",
   "execution_count": 4,
   "id": "N3g2HpR8wBbe",
   "metadata": {
    "colab": {
     "base_uri": "https://localhost:8080/"
    },
    "id": "N3g2HpR8wBbe",
    "outputId": "9fc05106-1bfb-4386-8dfa-9663387b28ee"
   },
   "outputs": [],
   "source": [
    "%%sh\n",
    "if [ ! -d \"docs\" ]\n",
    "then\n",
    "  mkdir docs\n",
    "  wget https://www.chevrolet.com/content/dam/chevrolet/na/us/english/index/shopping-tools/download-catalog/03-pdf/2022-chevrolet-colorado-ebrochure.pdf -P docs\n",
    "fi"
   ]
  },
  {
   "cell_type": "markdown",
   "id": "Ig8jWdH4vmVv",
   "metadata": {
    "id": "Ig8jWdH4vmVv"
   },
   "source": [
    "Install Redis-Stack-Server only if REDIS_HOST is not set"
   ]
  },
  {
   "cell_type": "code",
   "execution_count": 5,
   "id": "6CjMuWlOxYoZ",
   "metadata": {
    "colab": {
     "base_uri": "https://localhost:8080/"
    },
    "id": "6CjMuWlOxYoZ",
    "outputId": "98ea1bc7-8b87-442d-b46f-946283cdc9a0"
   },
   "outputs": [],
   "source": [
    "%%sh\n",
    "if [ -z \"$REDIS_HOST\" ]\n",
    "then\n",
    "  curl -fsSL https://packages.redis.io/gpg | sudo gpg --dearmor -o /usr/share/keyrings/redis-archive-keyring.gpg\n",
    "  echo \"deb [signed-by=/usr/share/keyrings/redis-archive-keyring.gpg] https://packages.redis.io/deb $(lsb_release -cs) main\" | sudo tee /etc/apt/sources.list.d/redis.list\n",
    "  sudo apt-get update\n",
    "  sudo apt-get install redis-stack-server\n",
    "  redis-stack-server --daemonize yes\n",
    "fi\n"
   ]
  },
  {
   "cell_type": "code",
   "execution_count": 6,
   "id": "47264e32",
   "metadata": {
    "ExecuteTime": {
     "end_time": "2023-02-10T12:20:23.988789Z",
     "start_time": "2023-02-10T12:20:23.967877Z"
    },
    "id": "47264e32",
    "tags": []
   },
   "outputs": [],
   "source": [
    "# Import\n",
    "import textwrap\n",
    "from IPython.display import display, Markdown\n",
    "from llama_index import GPTVectorStoreIndex, SimpleDirectoryReader\n",
    "from llama_index.vector_stores import RedisVectorStore"
   ]
  },
  {
   "cell_type": "markdown",
   "id": "59ff935d",
   "metadata": {
    "id": "59ff935d"
   },
   "source": [
    "### LLamaIndex\n",
    "\n",
    "[LlamaIndex](https://github.com/jerryjliu/llama_index) (GPT Index) is a project that provides a central interface to connect your LLM's with external data sources. It provides a simple interface to vectorize and store embeddings in Redis, create search indices using Redis, and perform vector search to find context for generative models like GPT.\n",
    "\n",
    "Here we will use it to load in the documents (Chevy Colorado Brochure)."
   ]
  },
  {
   "cell_type": "code",
   "execution_count": 7,
   "id": "68cbd239-880e-41a3-98d8-dbb3fab55431",
   "metadata": {
    "ExecuteTime": {
     "end_time": "2023-02-10T12:20:30.175678Z",
     "start_time": "2023-02-10T12:20:30.172456Z"
    },
    "colab": {
     "base_uri": "https://localhost:8080/"
    },
    "id": "68cbd239-880e-41a3-98d8-dbb3fab55431",
    "outputId": "7442830a-ab2d-4b4e-d367-1480414cbb36",
    "pycharm": {
     "is_executing": true
    },
    "tags": []
   },
   "outputs": [
    {
     "name": "stdout",
     "output_type": "stream",
     "text": [
      "Document ID: 614a0950-88a9-43fe-ab4f-a1b40f792f73 Document Hash: 958a61679fec883f58d6d490edebe15d4bd473e121e03057295d5dda81584204\n"
     ]
    }
   ],
   "source": [
    "# load documents\n",
    "documents = SimpleDirectoryReader('./docs').load_data()\n",
    "print('Document ID:', documents[0].doc_id, 'Document Hash:', documents[0].doc_hash)"
   ]
  },
  {
   "cell_type": "markdown",
   "id": "dd270925",
   "metadata": {
    "id": "dd270925"
   },
   "source": [
    "### Initialize Redis as a Vector Database\n",
    "\n",
    "Now we have our documents read in, we can initialize the ``RedisVectorStore``. This will allow us to store our vectors in Redis and create an index.\n",
    "\n",
    "The ``GPTVectorStoreIndex`` will then create the embeddings from the text chunks by calling out to OpenAI's API. The embeddings will be stored in Redis and an index will be created.\n",
    "\n",
    "NOTE: If you didn't set the ``OPENAI_API_KEY`` environment variable, you will get an error here."
   ]
  },
  {
   "cell_type": "code",
   "execution_count": 8,
   "id": "ba1558b3",
   "metadata": {
    "ExecuteTime": {
     "end_time": "2023-02-10T12:20:33.735897Z",
     "start_time": "2023-02-10T12:20:30.404245Z"
    },
    "id": "ba1558b3",
    "pycharm": {
     "is_executing": true
    },
    "tags": []
   },
   "outputs": [],
   "source": [
    "from llama_index.storage.storage_context import StorageContext\n",
    "\n",
    "REDIS_HOST = os.getenv(\"REDIS_HOST\", \"localhost\")\n",
    "REDIS_PORT = os.getenv(\"REDIS_PORT\", \"6379\")\n",
    "REDIS_PASSWORD = os.getenv(\"REDIS_PASSWORD\", \"\")\n",
    "\n",
    "vector_store = RedisVectorStore(\n",
    "    index_name=\"chevy_docs\",\n",
    "    index_prefix=\"llama\",\n",
    "    redis_url=\"redis://default:{}@{}:{}\".format(REDIS_PASSWORD,REDIS_HOST,REDIS_PORT),\n",
    "    overwrite=True\n",
    ")\n",
    "storage_context = StorageContext.from_defaults(vector_store=vector_store)\n",
    "index = GPTVectorStoreIndex.from_documents(documents, storage_context=storage_context)"
   ]
  },
  {
   "cell_type": "markdown",
   "id": "04304299-fc3e-40a0-8600-f50c3292767e",
   "metadata": {
    "id": "04304299-fc3e-40a0-8600-f50c3292767e"
   },
   "source": [
    "## Start Querying information from the Document\n",
    "\n",
    "Now that we have our document stored in the index, we can ask questions against the index. The index will use the data stored in itself as the knowledge base for chatgpt."
   ]
  },
  {
   "cell_type": "code",
   "execution_count": 9,
   "id": "35369eda",
   "metadata": {
    "ExecuteTime": {
     "end_time": "2023-02-10T12:20:51.328762Z",
     "start_time": "2023-02-10T12:20:33.822688Z"
    },
    "colab": {
     "base_uri": "https://localhost:8080/"
    },
    "id": "35369eda",
    "outputId": "422d91e9-9b06-4739-ad62-591916f41c69",
    "tags": []
   },
   "outputs": [
    {
     "name": "stdout",
     "output_type": "stream",
     "text": [
      " The Chevrolet Colorado is available in four models: WT, LT, Z71, and ZR2. It is available in both\n",
      "Extended Cab and Crew Cab configurations, and offers three engine choices: 2.5L 4-cylinder, 3.6L V6,\n",
      "and Duramax 2.8L Turbo-Diesel. It also offers a variety of features, including Apple CarPlay and\n",
      "Android Auto compatibility, ZR2 Bison Edition, ZR2 Dusk Special Edition, and ZR2 Midnight Special\n",
      "Edition.\n"
     ]
    }
   ],
   "source": [
    "query_engine = index.as_query_engine()\n",
    "response = query_engine.query(\"What types of variants are available for the Chevrolet Colorado?\")\n",
    "print(textwrap.fill(str(response), 100))"
   ]
  },
  {
   "cell_type": "code",
   "execution_count": 10,
   "id": "99212d33",
   "metadata": {
    "ExecuteTime": {
     "end_time": "2023-02-10T12:21:10.337294Z",
     "start_time": "2023-02-10T12:20:51.338718Z"
    },
    "colab": {
     "base_uri": "https://localhost:8080/"
    },
    "id": "99212d33",
    "outputId": "f49b7dec-dadb-4dc5-cace-c2082f40dff7",
    "tags": []
   },
   "outputs": [
    {
     "name": "stdout",
     "output_type": "stream",
     "text": [
      " The maximum towing capacity of the Chevy Colorado is 7,700 lbs. with the available Duramax 2.8L\n",
      "Turbo-Diesel engine.\n"
     ]
    }
   ],
   "source": [
    "response = query_engine.query(\"What is the maximum towing capacity of the chevy colorado?\")\n",
    "print(textwrap.fill(str(response), 100))"
   ]
  },
  {
   "cell_type": "code",
   "execution_count": 11,
   "id": "4a028452",
   "metadata": {
    "colab": {
     "base_uri": "https://localhost:8080/",
     "height": 300
    },
    "id": "4a028452",
    "outputId": "b46855d4-e32f-4143-977c-d46cf944b347",
    "tags": []
   },
   "outputs": [
    {
     "data": {
      "text/markdown": [
       "\n",
       "Model | Engine | Max Payload Rating (lbs.) | Max Trailering Weight Rating (lbs.)\n",
       "---- | ---- | ---- | ----\n",
       "WT | 2.5L I-4 | 1,530 | 37,000\n",
       "WT | 3.6L V6 | 1,500 | 37,000\n",
       "LT | 2.5L I-4 | 1,530 | 37,000\n",
       "LT | 3.6L V6 | 1,490 | 37,000\n",
       "LT | Duramax 2.8L I-4 | 1,540 | 37,700\n",
       "Z71 | 3.6L V6 | 1,460 | 7,000\n",
       "ZR2 | 3.6L V6 | 1,350 | 55,000\n",
       "ZR2 | Duramax 2.8L I-4 | 1,240 | 55,000"
      ],
      "text/plain": [
       "<IPython.core.display.Markdown object>"
      ]
     },
     "metadata": {},
     "output_type": "display_data"
    }
   ],
   "source": [
    "response = query_engine.query(\"What are the main differences between the three engine types available for the Chevy Colorado? Format response as a table with model as a first column\")\n",
    "#print(textwrap.fill(str(response), 100))\n",
    "#print(response)\n",
    "display(Markdown(str(response)))"
   ]
  }
 ],
 "metadata": {
  "colab": {
   "gpuType": "T4",
   "include_colab_link": true,
   "provenance": []
  },
  "gpuClass": "standard",
  "kernelspec": {
   "display_name": "Python 3 (ipykernel)",
   "language": "python",
   "name": "python3"
  },
  "language_info": {
   "codemirror_mode": {
    "name": "ipython",
    "version": 3
   },
   "file_extension": ".py",
   "mimetype": "text/x-python",
   "name": "python",
   "nbconvert_exporter": "python",
   "pygments_lexer": "ipython3",
   "version": "3.10.10"
  }
 },
 "nbformat": 4,
 "nbformat_minor": 5
}
