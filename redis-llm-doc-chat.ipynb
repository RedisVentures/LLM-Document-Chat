{
  "cells": [
    {
      "cell_type": "markdown",
      "metadata": {
        "id": "view-in-github",
        "colab_type": "text"
      },
      "source": [
        "<a href=\"https://colab.research.google.com/github/antonum/LLM-Document-Chat/blob/main/redis-llm-doc-chat.ipynb\" target=\"_parent\"><img src=\"https://colab.research.google.com/assets/colab-badge.svg\" alt=\"Open In Colab\"/></a>"
      ]
    },
    {
      "cell_type": "markdown",
      "id": "0b692c73",
      "metadata": {
        "id": "0b692c73"
      },
      "source": [
        "# Using Redis and OpenAI to chat with PDF documents\n",
        "\n",
        "This notebook demonstrates how to use RedisAI and OpenAI to chat with PDF documents. The PDF included is\n",
        "a informational brochure about the Chevy Colorado pickup truck.\n",
        "\n",
        "In this notebook, we will use LLamaIndex to chunk, vectorize, and store the PDF document in Redis as vectors\n",
        "alongside associated text. The query interface provided by LLamaIndex will be used to search for relevant\n",
        "information given queries from the user."
      ]
    },
    {
      "cell_type": "markdown",
      "source": [
        "##Please provide OpenAI API key"
      ],
      "metadata": {
        "id": "GDGgqJ5Y6N60"
      },
      "id": "GDGgqJ5Y6N60"
    },
    {
      "cell_type": "code",
      "source": [
        "import os\n",
        "import getpass\n",
        "OPENAI_API_KEY = os.getenv(\"OPENAI_API_KEY\", \"\")\n",
        "if OPENAI_API_KEY == \"\" :\n",
        "  key=getpass.getpass(prompt='OpenAI Key: ', stream=None)\n",
        "  os.environ['OPENAI_API_KEY']= key"
      ],
      "metadata": {
        "id": "oyFDgO2bzHk1",
        "outputId": "290a16c3-3eb6-4379-f360-f30ee48c66eb",
        "colab": {
          "base_uri": "https://localhost:8080/"
        }
      },
      "id": "oyFDgO2bzHk1",
      "execution_count": 1,
      "outputs": [
        {
          "name": "stdout",
          "output_type": "stream",
          "text": [
            "OpenAI Key: ··········\n"
          ]
        }
      ]
    },
    {
      "cell_type": "markdown",
      "source": [
        "Install dependencies, including local Redis Stack Server and download data."
      ],
      "metadata": {
        "id": "ae743Eg86Vy-"
      },
      "id": "ae743Eg86Vy-"
    },
    {
      "cell_type": "code",
      "execution_count": 2,
      "id": "949e6cf1",
      "metadata": {
        "tags": [],
        "id": "949e6cf1",
        "outputId": "a303d932-8d47-400f-8f75-2171c3cbe4eb",
        "colab": {
          "base_uri": "https://localhost:8080/"
        }
      },
      "outputs": [
        {
          "output_type": "stream",
          "name": "stdout",
          "text": [
            "\u001b[2K     \u001b[90m━━━━━━━━━━━━━━━━━━━━━━━━━━━━━━━━━━━━━━━\u001b[0m \u001b[32m240.3/240.3 kB\u001b[0m \u001b[31m4.2 MB/s\u001b[0m eta \u001b[36m0:00:00\u001b[0m\n",
            "\u001b[2K     \u001b[90m━━━━━━━━━━━━━━━━━━━━━━━━━━━━━━━━━━━━━━━\u001b[0m \u001b[32m232.6/232.6 kB\u001b[0m \u001b[31m9.7 MB/s\u001b[0m eta \u001b[36m0:00:00\u001b[0m\n",
            "\u001b[?25h"
          ]
        }
      ],
      "source": [
        "# Install the requirements\n",
        "!pip install -q redis PyPDF2 "
      ]
    },
    {
      "cell_type": "code",
      "execution_count": 3,
      "id": "04f5d099-b5ab-4011-9392-91ad5c93b14d",
      "metadata": {
        "tags": [],
        "id": "04f5d099-b5ab-4011-9392-91ad5c93b14d",
        "outputId": "b43ccbbb-51b5-4d65-b3ae-dce9dbd0b088",
        "colab": {
          "base_uri": "https://localhost:8080/"
        }
      },
      "outputs": [
        {
          "output_type": "stream",
          "name": "stdout",
          "text": [
            "  Installing build dependencies ... \u001b[?25l\u001b[?25hdone\n",
            "  Getting requirements to build wheel ... \u001b[?25l\u001b[?25hdone\n",
            "  Preparing metadata (pyproject.toml) ... \u001b[?25l\u001b[?25hdone\n",
            "\u001b[2K     \u001b[90m━━━━━━━━━━━━━━━━━━━━━━━━━━━━━━━━━━━━━━\u001b[0m \u001b[32m789.0/789.0 kB\u001b[0m \u001b[31m15.1 MB/s\u001b[0m eta \u001b[36m0:00:00\u001b[0m\n",
            "\u001b[2K     \u001b[90m━━━━━━━━━━━━━━━━━━━━━━━━━━━━━━━━━━━━━━━━\u001b[0m \u001b[32m71.9/71.9 kB\u001b[0m \u001b[31m8.0 MB/s\u001b[0m eta \u001b[36m0:00:00\u001b[0m\n",
            "\u001b[2K     \u001b[90m━━━━━━━━━━━━━━━━━━━━━━━━━━━━━━━━━━━━━━━━\u001b[0m \u001b[32m1.7/1.7 MB\u001b[0m \u001b[31m47.1 MB/s\u001b[0m eta \u001b[36m0:00:00\u001b[0m\n",
            "\u001b[2K     \u001b[90m━━━━━━━━━━━━━━━━━━━━━━━━━━━━━━━━━━━━━━━━\u001b[0m \u001b[32m1.0/1.0 MB\u001b[0m \u001b[31m57.1 MB/s\u001b[0m eta \u001b[36m0:00:00\u001b[0m\n",
            "\u001b[2K     \u001b[90m━━━━━━━━━━━━━━━━━━━━━━━━━━━━━━━━━━━━━━━━\u001b[0m \u001b[32m90.0/90.0 kB\u001b[0m \u001b[31m8.7 MB/s\u001b[0m eta \u001b[36m0:00:00\u001b[0m\n",
            "\u001b[2K     \u001b[90m━━━━━━━━━━━━━━━━━━━━━━━━━━━━━━━━━━━━━━━━\u001b[0m \u001b[32m49.1/49.1 kB\u001b[0m \u001b[31m4.9 MB/s\u001b[0m eta \u001b[36m0:00:00\u001b[0m\n",
            "\u001b[2K     \u001b[90m━━━━━━━━━━━━━━━━━━━━━━━━━━━━━━━━━━━━━━\u001b[0m \u001b[32m114.5/114.5 kB\u001b[0m \u001b[31m11.5 MB/s\u001b[0m eta \u001b[36m0:00:00\u001b[0m\n",
            "\u001b[2K     \u001b[90m━━━━━━━━━━━━━━━━━━━━━━━━━━━━━━━━━━━━━━\u001b[0m \u001b[32m268.8/268.8 kB\u001b[0m \u001b[31m19.6 MB/s\u001b[0m eta \u001b[36m0:00:00\u001b[0m\n",
            "\u001b[2K     \u001b[90m━━━━━━━━━━━━━━━━━━━━━━━━━━━━━━━━━━━━━━\u001b[0m \u001b[32m149.6/149.6 kB\u001b[0m \u001b[31m11.1 MB/s\u001b[0m eta \u001b[36m0:00:00\u001b[0m\n",
            "\u001b[?25h  Building wheel for llama-index (pyproject.toml) ... \u001b[?25l\u001b[?25hdone\n"
          ]
        }
      ],
      "source": [
        "!pip install -q git+https://github.com/redisventures/llama_index@redis_vector"
      ]
    },
    {
      "cell_type": "code",
      "source": [
        "!mkdir docs\n",
        "!wget https://www.chevrolet.com/content/dam/chevrolet/na/us/english/index/shopping-tools/download-catalog/03-pdf/2022-chevrolet-colorado-ebrochure.pdf -P docs\n"
      ],
      "metadata": {
        "id": "N3g2HpR8wBbe",
        "outputId": "9fc05106-1bfb-4386-8dfa-9663387b28ee",
        "colab": {
          "base_uri": "https://localhost:8080/"
        }
      },
      "id": "N3g2HpR8wBbe",
      "execution_count": 4,
      "outputs": [
        {
          "output_type": "stream",
          "name": "stdout",
          "text": [
            "--2023-05-10 22:22:27--  https://www.chevrolet.com/content/dam/chevrolet/na/us/english/index/shopping-tools/download-catalog/03-pdf/2022-chevrolet-colorado-ebrochure.pdf\n",
            "Resolving www.chevrolet.com (www.chevrolet.com)... 23.212.250.22, 23.212.250.12\n",
            "Connecting to www.chevrolet.com (www.chevrolet.com)|23.212.250.22|:443... connected.\n",
            "HTTP request sent, awaiting response... 200 OK\n",
            "Length: 3566101 (3.4M) [application/pdf]\n",
            "Saving to: ‘docs/2022-chevrolet-colorado-ebrochure.pdf’\n",
            "\n",
            "2022-chevrolet-colo 100%[===================>]   3.40M  16.4MB/s    in 0.2s    \n",
            "\n",
            "2023-05-10 22:22:27 (16.4 MB/s) - ‘docs/2022-chevrolet-colorado-ebrochure.pdf’ saved [3566101/3566101]\n",
            "\n"
          ]
        }
      ]
    },
    {
      "cell_type": "markdown",
      "source": [
        "Install Redis-Stack-Server only if REDIS_HOST is not set"
      ],
      "metadata": {
        "id": "Ig8jWdH4vmVv"
      },
      "id": "Ig8jWdH4vmVv"
    },
    {
      "cell_type": "code",
      "source": [
        "%%sh\n",
        "if [ -z \"$REDIS_HOST\" ]\n",
        "then\n",
        "  curl -fsSL https://packages.redis.io/gpg | sudo gpg --dearmor -o /usr/share/keyrings/redis-archive-keyring.gpg\n",
        "  echo \"deb [signed-by=/usr/share/keyrings/redis-archive-keyring.gpg] https://packages.redis.io/deb $(lsb_release -cs) main\" | sudo tee /etc/apt/sources.list.d/redis.list\n",
        "  sudo apt-get update\n",
        "  sudo apt-get install redis-stack-server\n",
        "  redis-stack-server --daemonize yes\n",
        "fi\n"
      ],
      "metadata": {
        "id": "6CjMuWlOxYoZ",
        "outputId": "98ea1bc7-8b87-442d-b46f-946283cdc9a0",
        "colab": {
          "base_uri": "https://localhost:8080/"
        }
      },
      "id": "6CjMuWlOxYoZ",
      "execution_count": 5,
      "outputs": [
        {
          "output_type": "stream",
          "name": "stdout",
          "text": [
            "deb [signed-by=/usr/share/keyrings/redis-archive-keyring.gpg] https://packages.redis.io/deb focal main\n",
            "Hit:1 http://archive.ubuntu.com/ubuntu focal InRelease\n",
            "Get:2 http://archive.ubuntu.com/ubuntu focal-updates InRelease [114 kB]\n",
            "Get:3 https://cloud.r-project.org/bin/linux/ubuntu focal-cran40/ InRelease [3,622 B]\n",
            "Get:4 http://security.ubuntu.com/ubuntu focal-security InRelease [114 kB]\n",
            "Get:5 http://archive.ubuntu.com/ubuntu focal-backports InRelease [108 kB]\n",
            "Get:6 http://ppa.launchpad.net/c2d4u.team/c2d4u4.0+/ubuntu focal InRelease [18.1 kB]\n",
            "Get:7 https://packages.redis.io/deb focal InRelease [3,790 B]\n",
            "Hit:8 http://ppa.launchpad.net/cran/libgit2/ubuntu focal InRelease\n",
            "Hit:9 http://ppa.launchpad.net/deadsnakes/ppa/ubuntu focal InRelease\n",
            "Get:10 https://developer.download.nvidia.com/compute/cuda/repos/ubuntu2004/x86_64  InRelease [1,581 B]\n",
            "Get:11 http://archive.ubuntu.com/ubuntu focal-updates/main amd64 Packages [3,158 kB]\n",
            "Hit:12 http://ppa.launchpad.net/graphics-drivers/ppa/ubuntu focal InRelease\n",
            "Get:13 http://archive.ubuntu.com/ubuntu focal-updates/universe amd64 Packages [1,343 kB]\n",
            "Hit:14 http://ppa.launchpad.net/ubuntugis/ppa/ubuntu focal InRelease\n",
            "Get:15 https://packages.redis.io/deb focal/main all Packages [4,122 B]\n",
            "Get:16 https://packages.redis.io/deb focal/main amd64 Packages [17.7 kB]\n",
            "Get:17 http://ppa.launchpad.net/c2d4u.team/c2d4u4.0+/ubuntu focal/main Sources [2,563 kB]\n",
            "Get:18 http://security.ubuntu.com/ubuntu focal-security/universe amd64 Packages [1,048 kB]\n",
            "Get:19 http://security.ubuntu.com/ubuntu focal-security/main amd64 Packages [2,680 kB]\n",
            "Get:20 https://developer.download.nvidia.com/compute/cuda/repos/ubuntu2004/x86_64  Packages [1,010 kB]\n",
            "Get:21 http://ppa.launchpad.net/c2d4u.team/c2d4u4.0+/ubuntu focal/main amd64 Packages [1,209 kB]\n",
            "Fetched 13.4 MB in 4s (3,638 kB/s)\n",
            "Reading package lists...\n",
            "Reading package lists...\n",
            "Building dependency tree...\n",
            "Reading state information...\n",
            "The following NEW packages will be installed:\n",
            "  redis-stack-server\n",
            "0 upgraded, 1 newly installed, 0 to remove and 33 not upgraded.\n",
            "Need to get 37.2 MB of archives.\n",
            "After this operation, 113 MB of additional disk space will be used.\n",
            "Get:1 https://packages.redis.io/deb focal/main amd64 redis-stack-server amd64 7.0.0-RC4 [37.2 MB]\n",
            "Fetched 37.2 MB in 1s (32.8 MB/s)\n",
            "Selecting previously unselected package redis-stack-server.\r\n",
            "(Reading database ... \r(Reading database ... 5%\r(Reading database ... 10%\r(Reading database ... 15%\r(Reading database ... 20%\r(Reading database ... 25%\r(Reading database ... 30%\r(Reading database ... 35%\r(Reading database ... 40%\r(Reading database ... 45%\r(Reading database ... 50%\r(Reading database ... 55%\r(Reading database ... 60%\r(Reading database ... 65%\r(Reading database ... 70%\r(Reading database ... 75%\r(Reading database ... 80%\r(Reading database ... 85%\r(Reading database ... 90%\r(Reading database ... 95%\r(Reading database ... 100%\r(Reading database ... 122518 files and directories currently installed.)\r\n",
            "Preparing to unpack .../redis-stack-server_7.0.0-RC4_amd64.deb ...\r\n",
            "Unpacking redis-stack-server (7.0.0-RC4) ...\r\n",
            "Setting up redis-stack-server (7.0.0-RC4) ...\r\n",
            "Created symlink /etc/systemd/system/multi-user.target.wants/redis-stack-server.service → /etc/systemd/system/redis-stack-server.service.\r\n",
            "System has not been booted with systemd as init system (PID 1). Can't operate.\r\n",
            "Failed to connect to bus: Host is down\r\n",
            "dpkg: error processing package redis-stack-server (--configure):\r\n",
            " installed redis-stack-server package post-installation script subprocess returned error exit status 1\r\n",
            "Errors were encountered while processing:\r\n",
            " redis-stack-server\r\n",
            "Starting redis-stack-server, database path /var/lib/redis-stack\n"
          ]
        },
        {
          "output_type": "stream",
          "name": "stderr",
          "text": [
            "debconf: unable to initialize frontend: Dialog\n",
            "debconf: (No usable dialog-like program is installed, so the dialog based frontend cannot be used. at /usr/share/perl5/Debconf/FrontEnd/Dialog.pm line 76, <> line 1.)\n",
            "debconf: falling back to frontend: Readline\n",
            "debconf: unable to initialize frontend: Readline\n",
            "debconf: (This frontend requires a controlling tty.)\n",
            "debconf: falling back to frontend: Teletype\n",
            "dpkg-preconfigure: unable to re-open stdin: \n",
            "E: Sub-process /usr/bin/dpkg returned an error code (1)\n"
          ]
        }
      ]
    },
    {
      "cell_type": "code",
      "execution_count": 6,
      "id": "47264e32",
      "metadata": {
        "ExecuteTime": {
          "end_time": "2023-02-10T12:20:23.988789Z",
          "start_time": "2023-02-10T12:20:23.967877Z"
        },
        "tags": [],
        "id": "47264e32"
      },
      "outputs": [],
      "source": [
        "# Import\n",
        "import textwrap\n",
        "from llama_index import GPTVectorStoreIndex, SimpleDirectoryReader\n",
        "from llama_index.vector_stores import RedisVectorStore"
      ]
    },
    {
      "cell_type": "markdown",
      "source": [
        "Get OpanAI key. If not present in the environment variable - ask user."
      ],
      "metadata": {
        "id": "jsTdoqXMzhu9"
      },
      "id": "jsTdoqXMzhu9"
    },
    {
      "cell_type": "markdown",
      "id": "59ff935d",
      "metadata": {
        "id": "59ff935d"
      },
      "source": [
        "### LLamaIndex\n",
        "\n",
        "[LlamaIndex](https://github.com/jerryjliu/llama_index) (GPT Index) is a project that provides a central interface to connect your LLM's with external data sources. It provides a simple interface to vectorize and store embeddings in Redis, create search indices using Redis, and perform vector search to find context for generative models like GPT.\n",
        "\n",
        "Here we will use it to load in the documents (Chevy Colorado Brochure)."
      ]
    },
    {
      "cell_type": "code",
      "execution_count": 7,
      "id": "68cbd239-880e-41a3-98d8-dbb3fab55431",
      "metadata": {
        "ExecuteTime": {
          "end_time": "2023-02-10T12:20:30.175678Z",
          "start_time": "2023-02-10T12:20:30.172456Z"
        },
        "pycharm": {
          "is_executing": true
        },
        "tags": [],
        "id": "68cbd239-880e-41a3-98d8-dbb3fab55431",
        "outputId": "7442830a-ab2d-4b4e-d367-1480414cbb36",
        "colab": {
          "base_uri": "https://localhost:8080/"
        }
      },
      "outputs": [
        {
          "output_type": "stream",
          "name": "stdout",
          "text": [
            "Document ID: 224e9016-a54e-4243-a166-ee2b727962f5 Document Hash: 958a61679fec883f58d6d490edebe15d4bd473e121e03057295d5dda81584204\n"
          ]
        }
      ],
      "source": [
        "# load documents\n",
        "documents = SimpleDirectoryReader('./docs').load_data()\n",
        "print('Document ID:', documents[0].doc_id, 'Document Hash:', documents[0].doc_hash)"
      ]
    },
    {
      "cell_type": "markdown",
      "id": "dd270925",
      "metadata": {
        "id": "dd270925"
      },
      "source": [
        "### Initialize Redis as a Vector Database\n",
        "\n",
        "Now we have our documents read in, we can initialize the ``RedisVectorStore``. This will allow us to store our vectors in Redis and create an index.\n",
        "\n",
        "The ``GPTVectorStoreIndex`` will then create the embeddings from the text chunks by calling out to OpenAI's API. The embeddings will be stored in Redis and an index will be created.\n",
        "\n",
        "NOTE: If you didn't set the ``OPENAI_API_KEY`` environment variable, you will get an error here."
      ]
    },
    {
      "cell_type": "code",
      "execution_count": 8,
      "id": "ba1558b3",
      "metadata": {
        "ExecuteTime": {
          "end_time": "2023-02-10T12:20:33.735897Z",
          "start_time": "2023-02-10T12:20:30.404245Z"
        },
        "pycharm": {
          "is_executing": true
        },
        "tags": [],
        "id": "ba1558b3"
      },
      "outputs": [],
      "source": [
        "from llama_index.storage.storage_context import StorageContext\n",
        "\n",
        "REDIS_HOST = os.getenv(\"REDIS_HOST\", \"localhost\")\n",
        "REDIS_PORT = os.getenv(\"REDIS_PORT\", \"6379\")\n",
        "REDIS_PASSWORD = os.getenv(\"REDIS_PASSWORD\", \"\")\n",
        "\n",
        "vector_store = RedisVectorStore(\n",
        "    index_name=\"chevy_docs\",\n",
        "    index_prefix=\"llama\",\n",
        "    redis_url=\"redis://default:{}@{}:{}\".format(REDIS_PASSWORD,REDIS_HOST,REDIS_PORT),\n",
        "    overwrite=True\n",
        ")\n",
        "storage_context = StorageContext.from_defaults(vector_store=vector_store)\n",
        "index = GPTVectorStoreIndex.from_documents(documents, storage_context=storage_context)"
      ]
    },
    {
      "cell_type": "markdown",
      "id": "04304299-fc3e-40a0-8600-f50c3292767e",
      "metadata": {
        "id": "04304299-fc3e-40a0-8600-f50c3292767e"
      },
      "source": [
        "## Start Querying information from the Document\n",
        "\n",
        "Now that we have our document stored in the index, we can ask questions against the index. The index will use the data stored in itself as the knowledge base for chatgpt."
      ]
    },
    {
      "cell_type": "code",
      "execution_count": 9,
      "id": "35369eda",
      "metadata": {
        "ExecuteTime": {
          "end_time": "2023-02-10T12:20:51.328762Z",
          "start_time": "2023-02-10T12:20:33.822688Z"
        },
        "tags": [],
        "id": "35369eda",
        "outputId": "422d91e9-9b06-4739-ad62-591916f41c69",
        "colab": {
          "base_uri": "https://localhost:8080/"
        }
      },
      "outputs": [
        {
          "output_type": "stream",
          "name": "stdout",
          "text": [
            " The Chevrolet Colorado is available in four models: WT, LT, Z71, and ZR2. It is available in both\n",
            "Extended Cab and Crew Cab configurations, and offers three engine choices: 2.5L 4-cylinder, 3.6L V6,\n",
            "and Duramax 2.8L Turbo-Diesel. It also offers a variety of features, including Apple CarPlay and\n",
            "Android Auto compatibility, ZR2 Bison Edition, ZR2 Dusk Special Edition, and ZR2 Midnight Special\n",
            "Edition.\n"
          ]
        }
      ],
      "source": [
        "query_engine = index.as_query_engine()\n",
        "response = query_engine.query(\"What types of variants are available for the Chevrolet Colorado?\")\n",
        "print(textwrap.fill(str(response), 100))"
      ]
    },
    {
      "cell_type": "code",
      "execution_count": 10,
      "id": "99212d33",
      "metadata": {
        "ExecuteTime": {
          "end_time": "2023-02-10T12:21:10.337294Z",
          "start_time": "2023-02-10T12:20:51.338718Z"
        },
        "tags": [],
        "id": "99212d33",
        "outputId": "f49b7dec-dadb-4dc5-cace-c2082f40dff7",
        "colab": {
          "base_uri": "https://localhost:8080/"
        }
      },
      "outputs": [
        {
          "output_type": "stream",
          "name": "stdout",
          "text": [
            " The maximum towing capacity of the Chevy Colorado is 7,700 lbs. with the available Duramax 2.8L\n",
            "Turbo-Diesel engine.\n"
          ]
        }
      ],
      "source": [
        "response = query_engine.query(\"What is the maximum towing capacity of the chevy colorado?\")\n",
        "print(textwrap.fill(str(response), 100))"
      ]
    },
    {
      "cell_type": "code",
      "execution_count": 13,
      "id": "4a028452",
      "metadata": {
        "tags": [],
        "id": "4a028452",
        "outputId": "b46855d4-e32f-4143-977c-d46cf944b347",
        "colab": {
          "base_uri": "https://localhost:8080/",
          "height": 300
        }
      },
      "outputs": [
        {
          "output_type": "display_data",
          "data": {
            "text/plain": [
              "<IPython.core.display.Markdown object>"
            ],
            "text/markdown": "\nModel | Engine | Max Payload Rating (lbs.) | Max Trailering Weight Rating (lbs.)\n---- | ------ | -------------------------- | -------------------------------\nWT | 2.5L I-4 | 1,530 | 37,000\nWT | 3.6L V6 | 1,500 | 37,000\nLT | 2.5L I-4 | 1,530 | 37,000\nLT | 3.6L V6 | 1,490 | 37,000\nLT | Duramax 2.8L I-4 | 1,540 | 37,700\nZ71 | 3.6L V6 | 1,460 | 7,000\nZR2 | 3.6L V6 | 1,350 | 55,000\nZR2 | Duramax 2.8L I-4 | 1,240 | 55,000"
          },
          "metadata": {}
        }
      ],
      "source": [
        "from IPython.display import display, Markdown\n",
        "response = query_engine.query(\"What are the main differences between the three engine types available for the Chevy Colorado? Format response as a table with model as a first column\")\n",
        "#print(textwrap.fill(str(response), 100))\n",
        "#print(response)\n",
        "display(Markdown(str(response)))"
      ]
    },
    {
      "cell_type": "code",
      "execution_count": 11,
      "id": "af52a2b7",
      "metadata": {
        "id": "af52a2b7"
      },
      "outputs": [],
      "source": []
    }
  ],
  "metadata": {
    "kernelspec": {
      "display_name": "Python 3 (ipykernel)",
      "language": "python",
      "name": "python3"
    },
    "language_info": {
      "codemirror_mode": {
        "name": "ipython",
        "version": 3
      },
      "file_extension": ".py",
      "mimetype": "text/x-python",
      "name": "python",
      "nbconvert_exporter": "python",
      "pygments_lexer": "ipython3",
      "version": "3.10.10"
    },
    "colab": {
      "provenance": [],
      "gpuType": "T4",
      "include_colab_link": true
    },
    "gpuClass": "standard"
  },
  "nbformat": 4,
  "nbformat_minor": 5
}